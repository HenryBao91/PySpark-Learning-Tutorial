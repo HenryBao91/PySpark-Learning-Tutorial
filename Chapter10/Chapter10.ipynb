{
 "cells": [
  {
   "cell_type": "markdown",
   "metadata": {},
   "source": [
    "# 第10章 数据分析实战—空气质量指数PM2.5分析"
   ]
  },
  {
   "cell_type": "code",
   "execution_count": 1,
   "metadata": {},
   "outputs": [],
   "source": [
    "# coding: utf-8\n",
    "from pyspark.sql.types import *\n",
    "import pyspark.sql.functions as F"
   ]
  },
  {
   "cell_type": "code",
   "execution_count": 2,
   "metadata": {},
   "outputs": [
    {
     "name": "stdout",
     "output_type": "stream",
     "text": [
      "file:///root/pyspark-book/data/\n"
     ]
    }
   ],
   "source": [
    "pwd = !pwd\n",
    "data_path = \"file://\" + list(pwd)[0] + '/data/'\n",
    "print(data_path)"
   ]
  },
  {
   "cell_type": "code",
   "execution_count": 3,
   "metadata": {
    "code_folding": [
     0
    ]
   },
   "outputs": [],
   "source": [
    "def get_health_level(value):\n",
    "    \"\"\"\n",
    "    PM2.5对应健康级别设置\n",
    "    :param value: PM2.5 \n",
    "    :return: level\n",
    "    \"\"\"\n",
    "    if 0 <= value <= 50:\n",
    "        return \"Very Good\"\n",
    "    elif 50 < value <= 100:\n",
    "        return \"Good\"\n",
    "    elif 100 < value <= 150:\n",
    "        return \"Unhealthy for Sensi\"\n",
    "    elif value <= 200:\n",
    "        return \"Unhealthy\"\n",
    "    elif 200 < value <= 300:\n",
    "        return \"Very Unhealthy\"\n",
    "    elif 300 < value <= 500:\n",
    "        return \"Hazardous\"\n",
    "    elif value > 500:\n",
    "        return \"Extreme danger\"\n",
    "    else:\n",
    "        return None"
   ]
  },
  {
   "cell_type": "code",
   "execution_count": 4,
   "metadata": {},
   "outputs": [],
   "source": [
    "# 1. 获取原始数据"
   ]
  },
  {
   "cell_type": "code",
   "execution_count": 5,
   "metadata": {},
   "outputs": [],
   "source": [
    "df = spark.read.format(\"csv\") \\\n",
    "    .option(\"header\", \"true\") \\\n",
    "    .option(\"inferSchema\", \"true\") \\\n",
    "    .load(data_path + \"Beijing_PM25.csv\") \\\n",
    "    .select(\"Year\", \"Month\", \"Day\", \"Hour\", \"Value\", \"QC Name\")"
   ]
  },
  {
   "cell_type": "code",
   "execution_count": 6,
   "metadata": {},
   "outputs": [
    {
     "name": "stdout",
     "output_type": "stream",
     "text": [
      "+----+-----+---+----+-----+-------+\n",
      "|Year|Month|Day|Hour|Value|QC Name|\n",
      "+----+-----+---+----+-----+-------+\n",
      "|2017|    1|  1|   0|  505|  Valid|\n",
      "|2017|    1|  1|   1|  485|  Valid|\n",
      "|2017|    1|  1|   2|  466|  Valid|\n",
      "|2017|    1|  1|   3|  435|  Valid|\n",
      "|2017|    1|  1|   4|  405|  Valid|\n",
      "|2017|    1|  1|   5|  402|  Valid|\n",
      "|2017|    1|  1|   6|  407|  Valid|\n",
      "|2017|    1|  1|   7|  435|  Valid|\n",
      "|2017|    1|  1|   8|  472|  Valid|\n",
      "|2017|    1|  1|   9|  465|  Valid|\n",
      "+----+-----+---+----+-----+-------+\n",
      "only showing top 10 rows\n",
      "\n"
     ]
    }
   ],
   "source": [
    "df.show(10)"
   ]
  },
  {
   "cell_type": "code",
   "execution_count": 7,
   "metadata": {},
   "outputs": [
    {
     "name": "stdout",
     "output_type": "stream",
     "text": [
      "root\n",
      " |-- Year: integer (nullable = true)\n",
      " |-- Month: integer (nullable = true)\n",
      " |-- Day: integer (nullable = true)\n",
      " |-- Hour: integer (nullable = true)\n",
      " |-- Value: integer (nullable = true)\n",
      " |-- QC Name: string (nullable = true)\n",
      "\n"
     ]
    }
   ],
   "source": [
    "df.printSchema()"
   ]
  },
  {
   "cell_type": "code",
   "execution_count": 8,
   "metadata": {},
   "outputs": [],
   "source": [
    "# 创建 health_level 列"
   ]
  },
  {
   "cell_type": "code",
   "execution_count": 9,
   "metadata": {},
   "outputs": [],
   "source": [
    "health_level_udf = F.udf(get_health_level, StringType())"
   ]
  },
  {
   "cell_type": "code",
   "execution_count": 10,
   "metadata": {},
   "outputs": [],
   "source": [
    "df = df.withColumn(\"healthy_level\", health_level_udf(\"Value\"))"
   ]
  },
  {
   "cell_type": "code",
   "execution_count": 11,
   "metadata": {},
   "outputs": [
    {
     "name": "stdout",
     "output_type": "stream",
     "text": [
      "+----+-----+---+----+-----+-------+--------------+\n",
      "|Year|Month|Day|Hour|Value|QC Name| healthy_level|\n",
      "+----+-----+---+----+-----+-------+--------------+\n",
      "|2017|    1|  1|   0|  505|  Valid|Extreme danger|\n",
      "|2017|    1|  1|   1|  485|  Valid|     Hazardous|\n",
      "|2017|    1|  1|   2|  466|  Valid|     Hazardous|\n",
      "|2017|    1|  1|   3|  435|  Valid|     Hazardous|\n",
      "|2017|    1|  1|   4|  405|  Valid|     Hazardous|\n",
      "|2017|    1|  1|   5|  402|  Valid|     Hazardous|\n",
      "|2017|    1|  1|   6|  407|  Valid|     Hazardous|\n",
      "|2017|    1|  1|   7|  435|  Valid|     Hazardous|\n",
      "|2017|    1|  1|   8|  472|  Valid|     Hazardous|\n",
      "|2017|    1|  1|   9|  465|  Valid|     Hazardous|\n",
      "+----+-----+---+----+-----+-------+--------------+\n",
      "only showing top 10 rows\n",
      "\n"
     ]
    }
   ],
   "source": [
    "df.show(10)"
   ]
  },
  {
   "cell_type": "code",
   "execution_count": 11,
   "metadata": {},
   "outputs": [],
   "source": [
    "# 根据 healthy_level 进行分组"
   ]
  },
  {
   "cell_type": "code",
   "execution_count": 12,
   "metadata": {},
   "outputs": [],
   "source": [
    "group_df = df.groupBy(\"healthy_level\").count()"
   ]
  },
  {
   "cell_type": "code",
   "execution_count": 13,
   "metadata": {},
   "outputs": [
    {
     "name": "stdout",
     "output_type": "stream",
     "text": [
      "+-------------------+-----+\n",
      "|      healthy_level|count|\n",
      "+-------------------+-----+\n",
      "|          Unhealthy|  198|\n",
      "|     Extreme danger|   27|\n",
      "|               Good| 1021|\n",
      "|          Very Good| 2438|\n",
      "|Unhealthy for Sensi|  374|\n",
      "|          Hazardous|  107|\n",
      "|     Very Unhealthy|  179|\n",
      "+-------------------+-----+\n",
      "\n"
     ]
    }
   ],
   "source": [
    "group_df.show(10)"
   ]
  },
  {
   "cell_type": "code",
   "execution_count": 15,
   "metadata": {},
   "outputs": [],
   "source": [
    "# 新建列days和percentage,并计算"
   ]
  },
  {
   "cell_type": "code",
   "execution_count": 16,
   "metadata": {},
   "outputs": [
    {
     "name": "stdout",
     "output_type": "stream",
     "text": [
      "4344\n"
     ]
    }
   ],
   "source": [
    "sums = df.count()\n",
    "print(sums)"
   ]
  },
  {
   "cell_type": "code",
   "execution_count": 18,
   "metadata": {},
   "outputs": [
    {
     "name": "stdout",
     "output_type": "stream",
     "text": [
      "root\n",
      " |-- healthy_level: string (nullable = true)\n",
      " |-- count: long (nullable = false)\n",
      "\n"
     ]
    }
   ],
   "source": [
    "group_df.printSchema()"
   ]
  },
  {
   "cell_type": "code",
   "execution_count": 19,
   "metadata": {},
   "outputs": [],
   "source": [
    "result_df = group_df\\\n",
    "        .withColumn(\"days\", (F.col(\"count\") / 24).cast(IntegerType())) \\\n",
    "        .withColumn(\"percentage\", F.round(F.col(\"count\") / sums, 3))"
   ]
  },
  {
   "cell_type": "code",
   "execution_count": 20,
   "metadata": {},
   "outputs": [
    {
     "name": "stdout",
     "output_type": "stream",
     "text": [
      "+-------------------+-----+----+----------+\n",
      "|      healthy_level|count|days|percentage|\n",
      "+-------------------+-----+----+----------+\n",
      "|          Unhealthy|  198|   8|     0.046|\n",
      "|     Extreme danger|   27|   1|     0.006|\n",
      "|               Good| 1021|  42|     0.235|\n",
      "|          Very Good| 2438| 101|     0.561|\n",
      "|Unhealthy for Sensi|  374|  15|     0.086|\n",
      "|          Hazardous|  107|   4|     0.025|\n",
      "|     Very Unhealthy|  179|   7|     0.041|\n",
      "+-------------------+-----+----+----------+\n",
      "\n"
     ]
    }
   ],
   "source": [
    "result_df.show(10)"
   ]
  },
  {
   "cell_type": "code",
   "execution_count": 20,
   "metadata": {},
   "outputs": [],
   "source": [
    "result_df.repartition(1).write.csv(path=data_path+'result_PM2.5', mode=\"overwrite\")"
   ]
  },
  {
   "cell_type": "code",
   "execution_count": 22,
   "metadata": {},
   "outputs": [
    {
     "name": "stdout",
     "output_type": "stream",
     "text": [
      "Unhealthy,198,8,0.046\r\n",
      "Extreme danger,27,1,0.006\r\n",
      "Good,1021,42,0.235\r\n",
      "Very Good,2438,101,0.561\r\n",
      "Unhealthy for Sensi,374,15,0.086\r\n",
      "Hazardous,107,4,0.025\r\n",
      "Very Unhealthy,179,7,0.041\r\n"
     ]
    }
   ],
   "source": [
    "%cat ./data/result_PM2.5/part-00000-86dde251-a54c-4eda-aa35-81ae26418afc-c000.csv"
   ]
  },
  {
   "cell_type": "code",
   "execution_count": 27,
   "metadata": {},
   "outputs": [
    {
     "name": "stdout",
     "output_type": "stream",
     "text": [
      "+-----+------------------+\n",
      "|month|        avg(Value)|\n",
      "+-----+------------------+\n",
      "|    1|108.73118279569893|\n",
      "|    6|32.918055555555554|\n",
      "|    3| 60.81720430107527|\n",
      "|    5| 57.62096774193548|\n",
      "|    4| 45.46944444444444|\n",
      "|    2| 72.95982142857143|\n",
      "+-----+------------------+\n",
      "\n"
     ]
    }
   ],
   "source": [
    "month_avg_df  =  df.groupBy(\"month\").agg({\"Value\": \"mean\"})\n",
    "month_avg_df.show()"
   ]
  },
  {
   "cell_type": "code",
   "execution_count": 28,
   "metadata": {},
   "outputs": [
    {
     "name": "stdout",
     "output_type": "stream",
     "text": [
      "+-----+-------------------+-----+\n",
      "|month|      healthy_level|count|\n",
      "+-----+-------------------+-----+\n",
      "|    5|          Unhealthy|    4|\n",
      "|    1|     Very Unhealthy|   94|\n",
      "|    5|               Good|  212|\n",
      "|    3|     Very Unhealthy|   16|\n",
      "|    2|               Good|  110|\n",
      "|    2|          Unhealthy|   45|\n",
      "|    6|          Very Good|  525|\n",
      "|    1|          Very Good|  319|\n",
      "|    4|Unhealthy for Sensi|   71|\n",
      "|    6|Unhealthy for Sensi|    7|\n",
      "|    4|               Good|  225|\n",
      "|    6|          Unhealthy|    8|\n",
      "|    4|          Unhealthy|   29|\n",
      "|    4|          Very Good|  391|\n",
      "|    6|               Good|  180|\n",
      "|    2|     Very Unhealthy|   63|\n",
      "|    1|          Hazardous|   71|\n",
      "|    1|          Unhealthy|   54|\n",
      "|    1|               Good|  109|\n",
      "|    3|               Good|  185|\n",
      "+-----+-------------------+-----+\n",
      "only showing top 20 rows\n",
      "\n"
     ]
    }
   ],
   "source": [
    "month_df  =  df.groupBy(\"month\", \"healthy_level\").count()\n",
    "month_df.show()"
   ]
  },
  {
   "cell_type": "code",
   "execution_count": 29,
   "metadata": {},
   "outputs": [],
   "source": [
    "pd_df = result_df.toPandas()"
   ]
  },
  {
   "cell_type": "code",
   "execution_count": 30,
   "metadata": {},
   "outputs": [
    {
     "data": {
      "text/html": [
       "<div>\n",
       "<style scoped>\n",
       "    .dataframe tbody tr th:only-of-type {\n",
       "        vertical-align: middle;\n",
       "    }\n",
       "\n",
       "    .dataframe tbody tr th {\n",
       "        vertical-align: top;\n",
       "    }\n",
       "\n",
       "    .dataframe thead th {\n",
       "        text-align: right;\n",
       "    }\n",
       "</style>\n",
       "<table border=\"1\" class=\"dataframe\">\n",
       "  <thead>\n",
       "    <tr style=\"text-align: right;\">\n",
       "      <th></th>\n",
       "      <th>healthy_level</th>\n",
       "      <th>count</th>\n",
       "      <th>days</th>\n",
       "      <th>percentage</th>\n",
       "    </tr>\n",
       "  </thead>\n",
       "  <tbody>\n",
       "    <tr>\n",
       "      <th>0</th>\n",
       "      <td>Unhealthy</td>\n",
       "      <td>198</td>\n",
       "      <td>8</td>\n",
       "      <td>0.046</td>\n",
       "    </tr>\n",
       "    <tr>\n",
       "      <th>1</th>\n",
       "      <td>Extreme danger</td>\n",
       "      <td>27</td>\n",
       "      <td>1</td>\n",
       "      <td>0.006</td>\n",
       "    </tr>\n",
       "    <tr>\n",
       "      <th>2</th>\n",
       "      <td>Good</td>\n",
       "      <td>1021</td>\n",
       "      <td>42</td>\n",
       "      <td>0.235</td>\n",
       "    </tr>\n",
       "    <tr>\n",
       "      <th>3</th>\n",
       "      <td>Very Good</td>\n",
       "      <td>2438</td>\n",
       "      <td>101</td>\n",
       "      <td>0.561</td>\n",
       "    </tr>\n",
       "    <tr>\n",
       "      <th>4</th>\n",
       "      <td>Unhealthy for Sensi</td>\n",
       "      <td>374</td>\n",
       "      <td>15</td>\n",
       "      <td>0.086</td>\n",
       "    </tr>\n",
       "  </tbody>\n",
       "</table>\n",
       "</div>"
      ],
      "text/plain": [
       "         healthy_level  count  days  percentage\n",
       "0            Unhealthy    198     8       0.046\n",
       "1       Extreme danger     27     1       0.006\n",
       "2                 Good   1021    42       0.235\n",
       "3            Very Good   2438   101       0.561\n",
       "4  Unhealthy for Sensi    374    15       0.086"
      ]
     },
     "execution_count": 30,
     "metadata": {},
     "output_type": "execute_result"
    }
   ],
   "source": [
    "pd_df.head()"
   ]
  },
  {
   "cell_type": "code",
   "execution_count": 31,
   "metadata": {},
   "outputs": [],
   "source": [
    "# 使用饼图查看空气质量等级占比"
   ]
  },
  {
   "cell_type": "code",
   "execution_count": 65,
   "metadata": {},
   "outputs": [],
   "source": [
    "import pandas as pd\n",
    "import numpy as np\n",
    "import matplotlib.pyplot as plt"
   ]
  },
  {
   "cell_type": "code",
   "execution_count": 66,
   "metadata": {},
   "outputs": [
    {
     "name": "stderr",
     "output_type": "stream",
     "text": [
      "/usr/local/src/anaconda3/lib/python3.6/site-packages/matplotlib/font_manager.py:1328: UserWarning: findfont: Font family ['sans-serif'] not found. Falling back to DejaVu Sans\n",
      "  (prop.get_family(), self.defaultFamily[fontext]))\n"
     ]
    },
    {
     "data": {
      "image/png": "[encoded data removed]",
      "text/plain": [
       "<Figure size 432x288 with 1 Axes>"
      ]
     },
     "metadata": {},
     "output_type": "display_data"
    }
   ],
   "source": [
    "plt.title(\"Beijing AQI PM2.5\")\n",
    "labels = pd_df['healthy_level']\n",
    "x = pd_df[\"percentage\"]\n",
    "plt.pie(x, labels=labels,autopct='%1.1f%%')\n",
    "plt.axis(\"equal\")\n",
    "plt.show()"
   ]
  },
  {
   "cell_type": "code",
   "execution_count": null,
   "metadata": {},
   "outputs": [],
   "source": []
  }
 ],
 "metadata": {
  "kernelspec": {
   "display_name": "Python 3",
   "language": "python",
   "name": "python3"
  },
  "language_info": {
   "codemirror_mode": {
    "name": "ipython",
    "version": 3
   },
   "file_extension": ".py",
   "mimetype": "text/x-python",
   "name": "python",
   "nbconvert_exporter": "python",
   "pygments_lexer": "ipython3",
   "version": "3.6.5"
  },
  "toc": {
   "base_numbering": 1,
   "nav_menu": {},
   "number_sections": true,
   "sideBar": true,
   "skip_h1_title": false,
   "title_cell": "Table of Contents",
   "title_sidebar": "Contents",
   "toc_cell": false,
   "toc_position": {},
   "toc_section_display": true,
   "toc_window_display": false
  }
 },
 "nbformat": 4,
 "nbformat_minor": 2
}
