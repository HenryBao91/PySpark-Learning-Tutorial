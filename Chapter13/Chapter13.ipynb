{
 "cells": [
  {
   "cell_type": "code",
   "execution_count": 1,
   "metadata": {},
   "outputs": [],
   "source": [
    "#import and create sparksession object"
   ]
  },
  {
   "cell_type": "code",
   "execution_count": 6,
   "metadata": {},
   "outputs": [],
   "source": [
    "from pyspark.sql import SparkSession \n",
    "spark = SparkSession\\\n",
    "    .builder\\\n",
    "    .appName('Recommend-System-Pyspark')\\\n",
    "    .getOrCreate()"
   ]
  },
  {
   "cell_type": "code",
   "execution_count": 7,
   "metadata": {},
   "outputs": [
    {
     "data": {
      "text/html": [
       "\n",
       "            <div>\n",
       "                <p><b>SparkSession - hive</b></p>\n",
       "                \n",
       "        <div>\n",
       "            <p><b>SparkContext</b></p>\n",
       "\n",
       "            <p><a href=\"http://master:4045\">Spark UI</a></p>\n",
       "\n",
       "            <dl>\n",
       "              <dt>Version</dt>\n",
       "                <dd><code>v2.4.3</code></dd>\n",
       "              <dt>Master</dt>\n",
       "                <dd><code>local[*]</code></dd>\n",
       "              <dt>AppName</dt>\n",
       "                <dd><code>Recommend-System-Pyspark</code></dd>\n",
       "            </dl>\n",
       "        </div>\n",
       "        \n",
       "            </div>\n",
       "        "
      ],
      "text/plain": [
       "<pyspark.sql.session.SparkSession at 0x7fce599e8d30>"
      ]
     },
     "execution_count": 7,
     "metadata": {},
     "output_type": "execute_result"
    }
   ],
   "source": [
    "spark"
   ]
  },
  {
   "cell_type": "code",
   "execution_count": 120,
   "metadata": {},
   "outputs": [],
   "source": [
    "import pyspark.sql.functions as F\n",
    "from pyspark.sql.types import *"
   ]
  },
  {
   "cell_type": "markdown",
   "metadata": {},
   "source": [
    "### 准备数据集"
   ]
  },
  {
   "cell_type": "code",
   "execution_count": 9,
   "metadata": {},
   "outputs": [],
   "source": [
    "# load the dataset and create sprk dataframe"
   ]
  },
  {
   "cell_type": "code",
   "execution_count": 152,
   "metadata": {},
   "outputs": [],
   "source": [
    "df = spark.read.csv('/data/movie_ratings_df.csv',\n",
    "                    inferSchema=True,\n",
    "                    header=True)"
   ]
  },
  {
   "cell_type": "code",
   "execution_count": 11,
   "metadata": {},
   "outputs": [],
   "source": [
    "# validate the shape of the data "
   ]
  },
  {
   "cell_type": "code",
   "execution_count": 12,
   "metadata": {},
   "outputs": [
    {
     "name": "stdout",
     "output_type": "stream",
     "text": [
      "(100000, 3)\n"
     ]
    }
   ],
   "source": [
    "print((df.count(),len(df.columns)))"
   ]
  },
  {
   "cell_type": "code",
   "execution_count": 13,
   "metadata": {},
   "outputs": [],
   "source": [
    "#check columns in dataframe"
   ]
  },
  {
   "cell_type": "code",
   "execution_count": 14,
   "metadata": {},
   "outputs": [
    {
     "name": "stdout",
     "output_type": "stream",
     "text": [
      "root\n",
      " |-- userId: integer (nullable = true)\n",
      " |-- title: string (nullable = true)\n",
      " |-- rating: integer (nullable = true)\n",
      "\n"
     ]
    }
   ],
   "source": [
    "df.printSchema()"
   ]
  },
  {
   "cell_type": "code",
   "execution_count": 15,
   "metadata": {},
   "outputs": [],
   "source": [
    "# alidate few rows of dataframe in random order"
   ]
  },
  {
   "cell_type": "markdown",
   "metadata": {},
   "source": [
    "### 数据统计"
   ]
  },
  {
   "cell_type": "code",
   "execution_count": 16,
   "metadata": {},
   "outputs": [
    {
     "name": "stdout",
     "output_type": "stream",
     "text": [
      "+------+------------------------------------+------+\n",
      "|userId|title                               |rating|\n",
      "+------+------------------------------------+------+\n",
      "|544   |Jackie Brown (1997)                 |4     |\n",
      "|884   |Fargo (1996)                        |5     |\n",
      "|38    |Jury Duty (1995)                    |1     |\n",
      "|367   |Jaws (1975)                         |4     |\n",
      "|286   |Tommy Boy (1995)                    |1     |\n",
      "|882   |Terminator, The (1984)              |5     |\n",
      "|200   |Pulp Fiction (1994)                 |4     |\n",
      "|813   |Beautician and the Beast, The (1997)|3     |\n",
      "|226   |Unforgiven (1992)                   |5     |\n",
      "|638   |Full Metal Jacket (1987)            |3     |\n",
      "+------+------------------------------------+------+\n",
      "only showing top 10 rows\n",
      "\n"
     ]
    }
   ],
   "source": [
    "df.orderBy(rand()).show(10,False)"
   ]
  },
  {
   "cell_type": "code",
   "execution_count": 17,
   "metadata": {},
   "outputs": [],
   "source": [
    "# check number of ratings by each user"
   ]
  },
  {
   "cell_type": "code",
   "execution_count": 18,
   "metadata": {},
   "outputs": [
    {
     "name": "stdout",
     "output_type": "stream",
     "text": [
      "+------+-----+\n",
      "|userId|count|\n",
      "+------+-----+\n",
      "|405   |737  |\n",
      "|655   |685  |\n",
      "|13    |636  |\n",
      "|450   |540  |\n",
      "|276   |518  |\n",
      "|416   |493  |\n",
      "|537   |490  |\n",
      "|303   |484  |\n",
      "|234   |480  |\n",
      "|393   |448  |\n",
      "+------+-----+\n",
      "only showing top 10 rows\n",
      "\n"
     ]
    }
   ],
   "source": [
    "df.groupBy('userId')\\\n",
    "    .count()\\\n",
    "    .orderBy('count',ascending=False)\\\n",
    "    .show(10,False)"
   ]
  },
  {
   "cell_type": "code",
   "execution_count": null,
   "metadata": {},
   "outputs": [],
   "source": [
    "# number of times movie been rated "
   ]
  },
  {
   "cell_type": "code",
   "execution_count": 19,
   "metadata": {},
   "outputs": [
    {
     "name": "stdout",
     "output_type": "stream",
     "text": [
      "+-----------------------------+-----+\n",
      "|title                        |count|\n",
      "+-----------------------------+-----+\n",
      "|Star Wars (1977)             |583  |\n",
      "|Contact (1997)               |509  |\n",
      "|Fargo (1996)                 |508  |\n",
      "|Return of the Jedi (1983)    |507  |\n",
      "|Liar Liar (1997)             |485  |\n",
      "|English Patient, The (1996)  |481  |\n",
      "|Scream (1996)                |478  |\n",
      "|Toy Story (1995)             |452  |\n",
      "|Air Force One (1997)         |431  |\n",
      "|Independence Day (ID4) (1996)|429  |\n",
      "+-----------------------------+-----+\n",
      "only showing top 10 rows\n",
      "\n"
     ]
    }
   ],
   "source": [
    "df.groupBy('title')\\\n",
    "    .count()\\\n",
    "    .orderBy('count',ascending=False)\\\n",
    "    .show(10,False)"
   ]
  },
  {
   "cell_type": "markdown",
   "metadata": {},
   "source": [
    "### Pyspark ML Pipeline"
   ]
  },
  {
   "cell_type": "code",
   "execution_count": 21,
   "metadata": {},
   "outputs": [],
   "source": [
    "# import String indexer to convert string values to numeric values\n",
    "# Training the recommender model using train datatset"
   ]
  },
  {
   "cell_type": "code",
   "execution_count": 153,
   "metadata": {},
   "outputs": [],
   "source": [
    "from pyspark.ml.feature import StringIndexer,IndexToString\n",
    "from pyspark.ml import Pipeline"
   ]
  },
  {
   "cell_type": "code",
   "execution_count": null,
   "metadata": {},
   "outputs": [],
   "source": [
    "#creating string indexer to convert the movie title column values into numerical values"
   ]
  },
  {
   "cell_type": "code",
   "execution_count": 154,
   "metadata": {},
   "outputs": [],
   "source": [
    "stringIndexer = StringIndexer(\n",
    "    inputCol=\"title\",            \n",
    "    outputCol=\"title_new\")"
   ]
  },
  {
   "cell_type": "code",
   "execution_count": 155,
   "metadata": {},
   "outputs": [],
   "source": [
    "pipeline = Pipeline(stages = [stringIndexer])"
   ]
  },
  {
   "cell_type": "code",
   "execution_count": 156,
   "metadata": {},
   "outputs": [
    {
     "data": {
      "text/plain": [
       "[StringIndexer_52f3d03f78c8]"
      ]
     },
     "execution_count": 156,
     "metadata": {},
     "output_type": "execute_result"
    }
   ],
   "source": [
    "pipeline.getStages()"
   ]
  },
  {
   "cell_type": "code",
   "execution_count": 157,
   "metadata": {},
   "outputs": [],
   "source": [
    "pipelineModel = pipeline.fit(df)"
   ]
  },
  {
   "cell_type": "code",
   "execution_count": 158,
   "metadata": {},
   "outputs": [],
   "source": [
    "index_df = pipelineModel.transform(df)"
   ]
  },
  {
   "cell_type": "code",
   "execution_count": 159,
   "metadata": {},
   "outputs": [
    {
     "name": "stdout",
     "output_type": "stream",
     "text": [
      "root\n",
      " |-- userId: integer (nullable = true)\n",
      " |-- title: string (nullable = true)\n",
      " |-- rating: integer (nullable = true)\n",
      " |-- title_new: double (nullable = false)\n",
      "\n"
     ]
    }
   ],
   "source": [
    "index_df.printSchema()"
   ]
  },
  {
   "cell_type": "code",
   "execution_count": 160,
   "metadata": {},
   "outputs": [
    {
     "name": "stdout",
     "output_type": "stream",
     "text": [
      "+------+------------+------+---------+\n",
      "|userId|title       |rating|title_new|\n",
      "+------+------------+------+---------+\n",
      "|196   |Kolya (1996)|3     |287.0    |\n",
      "|63    |Kolya (1996)|3     |287.0    |\n",
      "|226   |Kolya (1996)|5     |287.0    |\n",
      "|154   |Kolya (1996)|3     |287.0    |\n",
      "|306   |Kolya (1996)|5     |287.0    |\n",
      "|296   |Kolya (1996)|4     |287.0    |\n",
      "|34    |Kolya (1996)|5     |287.0    |\n",
      "|271   |Kolya (1996)|4     |287.0    |\n",
      "|201   |Kolya (1996)|4     |287.0    |\n",
      "|209   |Kolya (1996)|4     |287.0    |\n",
      "+------+------------+------+---------+\n",
      "only showing top 10 rows\n",
      "\n"
     ]
    }
   ],
   "source": [
    "index_df.show(10, False)"
   ]
  },
  {
   "cell_type": "code",
   "execution_count": 73,
   "metadata": {},
   "outputs": [],
   "source": [
    "#number of times each numerical movie title has been rated "
   ]
  },
  {
   "cell_type": "code",
   "execution_count": 161,
   "metadata": {},
   "outputs": [
    {
     "name": "stdout",
     "output_type": "stream",
     "text": [
      "+---------+-----+\n",
      "|title_new|count|\n",
      "+---------+-----+\n",
      "|0.0      |583  |\n",
      "|1.0      |509  |\n",
      "|2.0      |508  |\n",
      "|3.0      |507  |\n",
      "|4.0      |485  |\n",
      "|5.0      |481  |\n",
      "|6.0      |478  |\n",
      "|7.0      |452  |\n",
      "|8.0      |431  |\n",
      "|9.0      |429  |\n",
      "+---------+-----+\n",
      "only showing top 10 rows\n",
      "\n"
     ]
    }
   ],
   "source": [
    "index_df\\\n",
    "    .groupBy('title_new')\\\n",
    "    .count()\\\n",
    "    .orderBy('count',ascending=False)\\\n",
    "    .show(10,False)"
   ]
  },
  {
   "cell_type": "code",
   "execution_count": 165,
   "metadata": {},
   "outputs": [
    {
     "name": "stdout",
     "output_type": "stream",
     "text": [
      "+-----------------------------+---------+\n",
      "|title                        |title_new|\n",
      "+-----------------------------+---------+\n",
      "|Star Wars (1977)             |0.0      |\n",
      "|Contact (1997)               |1.0      |\n",
      "|Fargo (1996)                 |2.0      |\n",
      "|Return of the Jedi (1983)    |3.0      |\n",
      "|Liar Liar (1997)             |4.0      |\n",
      "|English Patient, The (1996)  |5.0      |\n",
      "|Scream (1996)                |6.0      |\n",
      "|Toy Story (1995)             |7.0      |\n",
      "|Air Force One (1997)         |8.0      |\n",
      "|Independence Day (ID4) (1996)|9.0      |\n",
      "+-----------------------------+---------+\n",
      "only showing top 10 rows\n",
      "\n"
     ]
    }
   ],
   "source": [
    "index_df.select(\"title\", \"title_new\")\\\n",
    "    .distinct()\\\n",
    "    .orderBy(\"title_new\",ascending=True)\\\n",
    "    .show(10,False)"
   ]
  },
  {
   "cell_type": "markdown",
   "metadata": {},
   "source": [
    "### 切分数据集"
   ]
  },
  {
   "cell_type": "code",
   "execution_count": 81,
   "metadata": {},
   "outputs": [],
   "source": [
    "train_df, test_df = index_df.randomSplit([0.75, 0.25])"
   ]
  },
  {
   "cell_type": "code",
   "execution_count": 82,
   "metadata": {},
   "outputs": [
    {
     "name": "stdout",
     "output_type": "stream",
     "text": [
      "Train Dataset Num : 75125\n",
      "Test Dataset Num : 24875\n"
     ]
    }
   ],
   "source": [
    "print(\"Train Dataset Num :\", train_df.count())\n",
    "print(\"Test Dataset Num :\", test_df.count())"
   ]
  },
  {
   "cell_type": "markdown",
   "metadata": {},
   "source": [
    "### 训练模型"
   ]
  },
  {
   "cell_type": "code",
   "execution_count": 79,
   "metadata": {},
   "outputs": [],
   "source": [
    "from pyspark.ml.recommendation import ALS"
   ]
  },
  {
   "cell_type": "code",
   "execution_count": 78,
   "metadata": {},
   "outputs": [],
   "source": [
    "als = ALS(maxIter=10,\n",
    "          regParam=0.01,\n",
    "          userCol='userId',\n",
    "          itemCol='title_new',\n",
    "          ratingCol='rating',\n",
    "          nonnegative=True,\n",
    "          coldStartStrategy=\"drop\")"
   ]
  },
  {
   "cell_type": "code",
   "execution_count": 83,
   "metadata": {},
   "outputs": [],
   "source": [
    "rec_model = als.fit(train_df)"
   ]
  },
  {
   "cell_type": "code",
   "execution_count": 84,
   "metadata": {},
   "outputs": [],
   "source": [
    "predicted_df = rec_model.transform(test_df)"
   ]
  },
  {
   "cell_type": "code",
   "execution_count": 85,
   "metadata": {},
   "outputs": [
    {
     "name": "stdout",
     "output_type": "stream",
     "text": [
      "root\n",
      " |-- userId: integer (nullable = true)\n",
      " |-- title: string (nullable = true)\n",
      " |-- rating: integer (nullable = true)\n",
      " |-- title_new: double (nullable = false)\n",
      " |-- prediction: float (nullable = false)\n",
      "\n"
     ]
    }
   ],
   "source": [
    "predicted_df.printSchema()"
   ]
  },
  {
   "cell_type": "code",
   "execution_count": 87,
   "metadata": {},
   "outputs": [
    {
     "name": "stdout",
     "output_type": "stream",
     "text": [
      "+------+---------------------------------------------+------+---------+----------+\n",
      "|userId|title                                        |rating|title_new|prediction|\n",
      "+------+---------------------------------------------+------+---------+----------+\n",
      "|213   |Sting, The (1973)                            |4     |75.0     |4.394649  |\n",
      "|499   |Alien (1979)                                 |4     |44.0     |3.3748245 |\n",
      "|189   |Ben-Hur (1959)                               |4     |270.0    |4.327587  |\n",
      "|294   |Romy and Michele's High School Reunion (1997)|2     |339.0    |3.3786664 |\n",
      "|410   |Postman, The (1997)                          |3     |552.0    |4.132841  |\n",
      "|416   |Manchurian Candidate, The (1962)             |5     |239.0    |4.8652353 |\n",
      "|910   |Twister (1996)                               |3     |42.0     |2.8483937 |\n",
      "|347   |Young Frankenstein (1974)                    |2     |117.0    |4.493652  |\n",
      "|855   |Wings of Desire (1987)                       |4     |562.0    |3.8445659 |\n",
      "|925   |Mary Shelley's Frankenstein (1994)           |3     |548.0    |3.2115214 |\n",
      "+------+---------------------------------------------+------+---------+----------+\n",
      "only showing top 10 rows\n",
      "\n"
     ]
    }
   ],
   "source": [
    "predicted_df.orderBy(rand()).show(10, False)"
   ]
  },
  {
   "cell_type": "markdown",
   "metadata": {},
   "source": [
    "### 模型评估"
   ]
  },
  {
   "cell_type": "code",
   "execution_count": 88,
   "metadata": {},
   "outputs": [],
   "source": [
    "# importing Regression Evaluator to measure RMSE"
   ]
  },
  {
   "cell_type": "code",
   "execution_count": 89,
   "metadata": {},
   "outputs": [],
   "source": [
    "from pyspark.ml.evaluation import RegressionEvaluator"
   ]
  },
  {
   "cell_type": "code",
   "execution_count": 90,
   "metadata": {},
   "outputs": [],
   "source": [
    "evaluator = RegressionEvaluator(\n",
    "    metricName='rmse',\n",
    "    predictionCol='prediction',\n",
    "    labelCol='rating')"
   ]
  },
  {
   "cell_type": "code",
   "execution_count": 91,
   "metadata": {},
   "outputs": [],
   "source": [
    "rmse = evaluator.evaluate(predicted_df)"
   ]
  },
  {
   "cell_type": "code",
   "execution_count": 92,
   "metadata": {},
   "outputs": [
    {
     "name": "stdout",
     "output_type": "stream",
     "text": [
      "RMSE:  1.0146951683205292\n"
     ]
    }
   ],
   "source": [
    "print('RMSE: ', rmse)"
   ]
  },
  {
   "cell_type": "markdown",
   "metadata": {},
   "source": [
    "### 创建推荐系统"
   ]
  },
  {
   "cell_type": "code",
   "execution_count": 97,
   "metadata": {},
   "outputs": [],
   "source": [
    "#create dataset of all distinct movies "
   ]
  },
  {
   "cell_type": "code",
   "execution_count": 99,
   "metadata": {},
   "outputs": [],
   "source": [
    "unique_movies = index_df.select('title_new').distinct()"
   ]
  },
  {
   "cell_type": "code",
   "execution_count": 100,
   "metadata": {},
   "outputs": [
    {
     "data": {
      "text/plain": [
       "1664"
      ]
     },
     "execution_count": 100,
     "metadata": {},
     "output_type": "execute_result"
    }
   ],
   "source": [
    "unique_movies.count()"
   ]
  },
  {
   "cell_type": "code",
   "execution_count": 103,
   "metadata": {},
   "outputs": [],
   "source": [
    "a = unique_movies.alias('a')"
   ]
  },
  {
   "cell_type": "code",
   "execution_count": 106,
   "metadata": {},
   "outputs": [
    {
     "name": "stdout",
     "output_type": "stream",
     "text": [
      "+---------+\n",
      "|title_new|\n",
      "+---------+\n",
      "|    558.0|\n",
      "|    305.0|\n",
      "|    299.0|\n",
      "|    596.0|\n",
      "|    769.0|\n",
      "+---------+\n",
      "only showing top 5 rows\n",
      "\n"
     ]
    }
   ],
   "source": [
    "a.show(5)"
   ]
  },
  {
   "cell_type": "code",
   "execution_count": 107,
   "metadata": {},
   "outputs": [],
   "source": [
    "user_id = 85"
   ]
  },
  {
   "cell_type": "code",
   "execution_count": null,
   "metadata": {},
   "outputs": [],
   "source": [
    "# creating another dataframe which contains already watched movie by active user "
   ]
  },
  {
   "cell_type": "code",
   "execution_count": 109,
   "metadata": {},
   "outputs": [],
   "source": [
    "watched_movies = index_df\\\n",
    "    .filter(index_df['userId'] == user_id)\\\n",
    "    .select('title_new')\\\n",
    "    .distinct()"
   ]
  },
  {
   "cell_type": "code",
   "execution_count": 110,
   "metadata": {},
   "outputs": [
    {
     "data": {
      "text/plain": [
       "287"
      ]
     },
     "execution_count": 110,
     "metadata": {},
     "output_type": "execute_result"
    }
   ],
   "source": [
    "watched_movies.count()"
   ]
  },
  {
   "cell_type": "code",
   "execution_count": 111,
   "metadata": {},
   "outputs": [],
   "source": [
    "b = watched_movies.alias('b')"
   ]
  },
  {
   "cell_type": "code",
   "execution_count": 112,
   "metadata": {},
   "outputs": [
    {
     "name": "stdout",
     "output_type": "stream",
     "text": [
      "+---------+\n",
      "|title_new|\n",
      "+---------+\n",
      "|    305.0|\n",
      "|    496.0|\n",
      "|    184.0|\n",
      "|    147.0|\n",
      "|     70.0|\n",
      "+---------+\n",
      "only showing top 5 rows\n",
      "\n"
     ]
    }
   ],
   "source": [
    "b.show(5)"
   ]
  },
  {
   "cell_type": "code",
   "execution_count": 113,
   "metadata": {},
   "outputs": [],
   "source": [
    "total_movies = a.join(\n",
    "    b, \n",
    "    a.title_new == b.title_new,\n",
    "    how='left')"
   ]
  },
  {
   "cell_type": "code",
   "execution_count": 114,
   "metadata": {},
   "outputs": [
    {
     "name": "stdout",
     "output_type": "stream",
     "text": [
      "+---------+---------+\n",
      "|title_new|title_new|\n",
      "+---------+---------+\n",
      "|558.0    |null     |\n",
      "|305.0    |305.0    |\n",
      "|299.0    |null     |\n",
      "|596.0    |null     |\n",
      "|769.0    |null     |\n",
      "+---------+---------+\n",
      "only showing top 5 rows\n",
      "\n"
     ]
    }
   ],
   "source": [
    "total_movies.show(5, False)"
   ]
  },
  {
   "cell_type": "code",
   "execution_count": 124,
   "metadata": {},
   "outputs": [],
   "source": [
    "# 过滤掉用户已经看过或评分过的电影"
   ]
  },
  {
   "cell_type": "code",
   "execution_count": 121,
   "metadata": {},
   "outputs": [],
   "source": [
    "remaining_movies = total_movies\\\n",
    "    .where(F.col(\"b.title_new\").isNull())\\\n",
    "    .select(a.title_new)\\\n",
    "    .distinct()"
   ]
  },
  {
   "cell_type": "code",
   "execution_count": 122,
   "metadata": {},
   "outputs": [
    {
     "name": "stdout",
     "output_type": "stream",
     "text": [
      "+---------+\n",
      "|title_new|\n",
      "+---------+\n",
      "|558.0    |\n",
      "|299.0    |\n",
      "|596.0    |\n",
      "|769.0    |\n",
      "|934.0    |\n",
      "+---------+\n",
      "only showing top 5 rows\n",
      "\n"
     ]
    }
   ],
   "source": [
    "remaining_movies.show(5, False)"
   ]
  },
  {
   "cell_type": "code",
   "execution_count": 125,
   "metadata": {},
   "outputs": [],
   "source": [
    "remaining_movies = remaining_movies.withColumn(\"userId\", F.lit(int(user_id)))"
   ]
  },
  {
   "cell_type": "code",
   "execution_count": 126,
   "metadata": {},
   "outputs": [
    {
     "name": "stdout",
     "output_type": "stream",
     "text": [
      "+---------+------+\n",
      "|title_new|userId|\n",
      "+---------+------+\n",
      "|558.0    |85    |\n",
      "|299.0    |85    |\n",
      "|596.0    |85    |\n",
      "|769.0    |85    |\n",
      "|934.0    |85    |\n",
      "|1051.0   |85    |\n",
      "|692.0    |85    |\n",
      "|810.0    |85    |\n",
      "|720.0    |85    |\n",
      "|782.0    |85    |\n",
      "+---------+------+\n",
      "only showing top 10 rows\n",
      "\n"
     ]
    }
   ],
   "source": [
    "remaining_movies.show(10, False)"
   ]
  },
  {
   "cell_type": "code",
   "execution_count": 127,
   "metadata": {},
   "outputs": [],
   "source": [
    "# making recommendations using ALS recommender model and selecting only topN movies"
   ]
  },
  {
   "cell_type": "code",
   "execution_count": 128,
   "metadata": {},
   "outputs": [],
   "source": [
    "recommendations = rec_model\\\n",
    "    .transform(remaining_movies)\\\n",
    "    .orderBy('prediction',ascending=False)"
   ]
  },
  {
   "cell_type": "code",
   "execution_count": 129,
   "metadata": {},
   "outputs": [
    {
     "name": "stdout",
     "output_type": "stream",
     "text": [
      "+---------+------+----------+\n",
      "|title_new|userId|prediction|\n",
      "+---------+------+----------+\n",
      "|1328.0   |85    |4.8966446 |\n",
      "|1271.0   |85    |4.7829847 |\n",
      "|1132.0   |85    |4.7179346 |\n",
      "|288.0    |85    |4.656434  |\n",
      "|1367.0   |85    |4.6416006 |\n",
      "+---------+------+----------+\n",
      "only showing top 5 rows\n",
      "\n"
     ]
    }
   ],
   "source": [
    "recommendations.show(5,False)"
   ]
  },
  {
   "cell_type": "code",
   "execution_count": 130,
   "metadata": {},
   "outputs": [],
   "source": [
    "#converting title_new values back to movie titles"
   ]
  },
  {
   "cell_type": "code",
   "execution_count": 145,
   "metadata": {},
   "outputs": [],
   "source": [
    "movie_title = IndexToString(\n",
    "    inputCol=\"title_new\",\n",
    "    outputCol=\"title\",\n",
    "    labels=pipelineModel.stages[0].labels)\n",
    "\n",
    "final_recommendations = movie_title.transform(recommendations)"
   ]
  },
  {
   "cell_type": "code",
   "execution_count": 146,
   "metadata": {},
   "outputs": [
    {
     "name": "stdout",
     "output_type": "stream",
     "text": [
      "+---------+------+----------+-----------------------------------------------+\n",
      "|title_new|userId|prediction|title                                          |\n",
      "+---------+------+----------+-----------------------------------------------+\n",
      "|1328.0   |85    |4.8966446 |Legal Deceit (1997)                            |\n",
      "|1271.0   |85    |4.7829847 |Whole Wide World, The (1996)                   |\n",
      "|1132.0   |85    |4.7179346 |Incognito (1997)                               |\n",
      "|288.0    |85    |4.656434  |Hoop Dreams (1994)                             |\n",
      "|1367.0   |85    |4.6416006 |Maya Lin: A Strong Clear Vision (1994)         |\n",
      "|285.0    |85    |4.621625  |Wrong Trousers, The (1993)                     |\n",
      "|514.0    |85    |4.5345607 |Jean de Florette (1986)                        |\n",
      "|967.0    |85    |4.5279994 |Thirty-Two Short Films About Glenn Gould (1993)|\n",
      "|1468.0   |85    |4.5212555 |Anna (1996)                                    |\n",
      "|638.0    |85    |4.498848  |Shall We Dance? (1996)                         |\n",
      "+---------+------+----------+-----------------------------------------------+\n",
      "only showing top 10 rows\n",
      "\n"
     ]
    }
   ],
   "source": [
    "final_recommendations.show(10, False)"
   ]
  },
  {
   "cell_type": "code",
   "execution_count": 147,
   "metadata": {},
   "outputs": [],
   "source": [
    "def get_top_movies(user_id, n):\n",
    "    \"\"\"\n",
    "    This function returns the top 'n' movies that user has not seen yet but might like \n",
    "    \n",
    "    \"\"\"\n",
    "    #assigning alias name 'a' to unique movies df\n",
    "    a = unique_movies.alias('a')\n",
    "    \n",
    "    #creating another dataframe which contains already watched movie by active user \n",
    "    watched_movies = index_df\\\n",
    "        .filter(index_df['userId'] == user_id)\\\n",
    "        .select('title_new')\\\n",
    "        .distinct()    \n",
    "    \n",
    "    #assigning alias name 'b' to watched movies df\n",
    "    b = watched_movies.alias('b')\n",
    "    \n",
    "    #joining both tables on left join \n",
    "    total_movies = a.join(\n",
    "        b, \n",
    "        a.title_new == b.title_new,\n",
    "        how='left')\n",
    "    \n",
    "    #selecting movies which active user is yet to rate or watch\n",
    "    remaining_movies = total_movies\\\n",
    "        .where(F.col(\"b.title_new\").isNull())\\\n",
    "        .select(a.title_new)\\\n",
    "        .distinct()\n",
    "    \n",
    "    \n",
    "    #adding new column of user_Id of active useer to remaining movies df \n",
    "    remaining_movies = remaining_movies.withColumn(\"userId\", F.lit(int(user_id)))\n",
    "    \n",
    "    \n",
    "    #making recommendations using ALS recommender model and selecting only top 'n' movies\n",
    "    recommendations = rec_model\\\n",
    "        .transform(remaining_movies)\\\n",
    "        .orderBy('prediction',ascending=False)\\\n",
    "        .limit(n)\n",
    "    \n",
    "    \n",
    "    #adding columns of movie titles in recommendations\n",
    "    movie_title = IndexToString(\n",
    "        inputCol=\"title_new\",\n",
    "        outputCol=\"title\",\n",
    "        labels=pipelineModel.stages[0].labels)\n",
    "    \n",
    "    final_recommendations = movie_title.transform(recommendations)    \n",
    "    \n",
    "    #return the recommendations to active user\n",
    "    return final_recommendations.show(truncate=False)"
   ]
  },
  {
   "cell_type": "code",
   "execution_count": 149,
   "metadata": {},
   "outputs": [
    {
     "name": "stdout",
     "output_type": "stream",
     "text": [
      "+---------+------+----------+-----------------------------------------------+\n",
      "|title_new|userId|prediction|title                                          |\n",
      "+---------+------+----------+-----------------------------------------------+\n",
      "|1328.0   |85    |4.8966446 |Legal Deceit (1997)                            |\n",
      "|1271.0   |85    |4.7829847 |Whole Wide World, The (1996)                   |\n",
      "|1132.0   |85    |4.7179346 |Incognito (1997)                               |\n",
      "|288.0    |85    |4.656434  |Hoop Dreams (1994)                             |\n",
      "|1367.0   |85    |4.6416006 |Maya Lin: A Strong Clear Vision (1994)         |\n",
      "|285.0    |85    |4.621625  |Wrong Trousers, The (1993)                     |\n",
      "|514.0    |85    |4.5345607 |Jean de Florette (1986)                        |\n",
      "|967.0    |85    |4.5279994 |Thirty-Two Short Films About Glenn Gould (1993)|\n",
      "|1468.0   |85    |4.5212555 |Anna (1996)                                    |\n",
      "|638.0    |85    |4.498848  |Shall We Dance? (1996)                         |\n",
      "+---------+------+----------+-----------------------------------------------+\n",
      "\n"
     ]
    }
   ],
   "source": [
    "get_top_movies(85, 10)"
   ]
  },
  {
   "cell_type": "code",
   "execution_count": null,
   "metadata": {},
   "outputs": [],
   "source": []
  }
 ],
 "metadata": {
  "kernelspec": {
   "display_name": "Python 3",
   "language": "python",
   "name": "python3"
  },
  "language_info": {
   "codemirror_mode": {
    "name": "ipython",
    "version": 3
   },
   "file_extension": ".py",
   "mimetype": "text/x-python",
   "name": "python",
   "nbconvert_exporter": "python",
   "pygments_lexer": "ipython3",
   "version": "3.6.5"
  },
  "toc": {
   "base_numbering": 1,
   "nav_menu": {},
   "number_sections": true,
   "sideBar": true,
   "skip_h1_title": false,
   "title_cell": "Table of Contents",
   "title_sidebar": "Contents",
   "toc_cell": false,
   "toc_position": {},
   "toc_section_display": true,
   "toc_window_display": false
  }
 },
 "nbformat": 4,
 "nbformat_minor": 2
}
