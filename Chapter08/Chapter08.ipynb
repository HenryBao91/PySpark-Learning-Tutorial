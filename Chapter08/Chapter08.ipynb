{
 "cells": [
  {
   "cell_type": "markdown",
   "metadata": {},
   "source": [
    "# 电商PV、UV榜统计实战"
   ]
  },
  {
   "cell_type": "code",
   "execution_count": 1,
   "metadata": {},
   "outputs": [
    {
     "name": "stdout",
     "output_type": "stream",
     "text": [
      "file:///root/pyspark-book/data/\n"
     ]
    }
   ],
   "source": [
    "pwd = !pwd\n",
    "data_path = \"file://\" + list(pwd)[0] + '/data/'\n",
    "print(data_path)"
   ]
  },
  {
   "cell_type": "code",
   "execution_count": 2,
   "metadata": {},
   "outputs": [],
   "source": [
    "rdd = sc.textFile(data_path + \"access_log.txt\")"
   ]
  },
  {
   "cell_type": "code",
   "execution_count": 3,
   "metadata": {},
   "outputs": [
    {
     "data": {
      "text/plain": [
       "'105.145.171.151\\t辽宁\\t2021-06-01\\t1532057592615\\t4389195290417379165\\twww.jd.com\\tView'"
      ]
     },
     "execution_count": 3,
     "metadata": {},
     "output_type": "execute_result"
    }
   ],
   "source": [
    "rdd.first()"
   ]
  },
  {
   "cell_type": "code",
   "execution_count": 4,
   "metadata": {},
   "outputs": [],
   "source": [
    "# pv：网站的总访问量"
   ]
  },
  {
   "cell_type": "code",
   "execution_count": 5,
   "metadata": {},
   "outputs": [],
   "source": [
    "def pv(rows):\n",
    "    sitepair = rows.map(lambda row: (row.split(\"\\t\")[5], 1))\n",
    "    result = sitepair.reduceByKey(lambda v1, v2: (v1+v2))\n",
    "    \n",
    "    # 按照降序排序\n",
    "    result = result.sortBy(lambda one: one[1], ascending=False)\n",
    "    \n",
    "    return result"
   ]
  },
  {
   "cell_type": "code",
   "execution_count": 6,
   "metadata": {},
   "outputs": [
    {
     "data": {
      "text/plain": [
       "[('www.suning.com', 9),\n",
       " ('www.baidu.com', 9),\n",
       " ('www.gome.com.cn', 7),\n",
       " ('www.taobao.com', 5),\n",
       " ('www.dangdang.com', 5),\n",
       " ('www.jd.com', 4),\n",
       " ('www.mi.com', 2)]"
      ]
     },
     "execution_count": 6,
     "metadata": {},
     "output_type": "execute_result"
    }
   ],
   "source": [
    "pv(rdd).collect()"
   ]
  },
  {
   "cell_type": "code",
   "execution_count": 7,
   "metadata": {},
   "outputs": [],
   "source": [
    "# uv：网站的独立用户访问量"
   ]
  },
  {
   "cell_type": "code",
   "execution_count": 8,
   "metadata": {
    "code_folding": []
   },
   "outputs": [],
   "source": [
    "def uv(rows):\n",
    "    # 同一个ip，要distinct排重\n",
    "    sitepair = rows\\\n",
    "        .map(lambda row: row.split(\"\\t\")[0] + \"_\" + row.split(\"\\t\")[5])\\\n",
    "        .distinct()\n",
    "\n",
    "    result = sitepair.map(lambda row: (row.split(\"_\")[1], 1))\\\n",
    "        .reduceByKey(lambda v1, v2: v1 + v2)\\\n",
    "        .sortBy(lambda kv: kv[1], ascending=False)    \n",
    "    \n",
    "    return result"
   ]
  },
  {
   "cell_type": "code",
   "execution_count": 9,
   "metadata": {
    "scrolled": true
   },
   "outputs": [
    {
     "data": {
      "text/plain": [
       "[('www.suning.com', 8),\n",
       " ('www.baidu.com', 8),\n",
       " ('www.gome.com.cn', 6),\n",
       " ('www.taobao.com', 5),\n",
       " ('www.jd.com', 4),\n",
       " ('www.dangdang.com', 3),\n",
       " ('www.mi.com', 2)]"
      ]
     },
     "execution_count": 9,
     "metadata": {},
     "output_type": "execute_result"
    }
   ],
   "source": [
    "uv(rdd).collect()"
   ]
  }
 ],
 "metadata": {
  "kernelspec": {
   "display_name": "Python 3",
   "language": "python",
   "name": "python3"
  },
  "language_info": {
   "codemirror_mode": {
    "name": "ipython",
    "version": 3
   },
   "file_extension": ".py",
   "mimetype": "text/x-python",
   "name": "python",
   "nbconvert_exporter": "python",
   "pygments_lexer": "ipython3",
   "version": "3.6.5"
  },
  "toc": {
   "base_numbering": 1,
   "nav_menu": {},
   "number_sections": true,
   "sideBar": true,
   "skip_h1_title": false,
   "title_cell": "Table of Contents",
   "title_sidebar": "Contents",
   "toc_cell": false,
   "toc_position": {},
   "toc_section_display": true,
   "toc_window_display": false
  }
 },
 "nbformat": 4,
 "nbformat_minor": 2
}
